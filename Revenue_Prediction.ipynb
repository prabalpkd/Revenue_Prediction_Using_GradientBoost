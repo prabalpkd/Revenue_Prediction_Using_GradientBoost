{
 "cells": [
  {
   "cell_type": "code",
   "execution_count": 58,
   "id": "afd3724a-eb08-4e41-86a5-5a08580168a3",
   "metadata": {},
   "outputs": [],
   "source": [
    "import pandas as pd"
   ]
  },
  {
   "cell_type": "code",
   "execution_count": 59,
   "id": "38db7b14-98b8-4d31-b1e8-60a0ca3a9e98",
   "metadata": {},
   "outputs": [
    {
     "data": {
      "text/html": [
       "<div>\n",
       "<style scoped>\n",
       "    .dataframe tbody tr th:only-of-type {\n",
       "        vertical-align: middle;\n",
       "    }\n",
       "\n",
       "    .dataframe tbody tr th {\n",
       "        vertical-align: top;\n",
       "    }\n",
       "\n",
       "    .dataframe thead th {\n",
       "        text-align: right;\n",
       "    }\n",
       "</style>\n",
       "<table border=\"1\" class=\"dataframe\">\n",
       "  <thead>\n",
       "    <tr style=\"text-align: right;\">\n",
       "      <th></th>\n",
       "      <th>Ad Spend ($)</th>\n",
       "      <th>Season</th>\n",
       "      <th>Revenue ($)</th>\n",
       "    </tr>\n",
       "  </thead>\n",
       "  <tbody>\n",
       "    <tr>\n",
       "      <th>86</th>\n",
       "      <td>672</td>\n",
       "      <td>Monsoon</td>\n",
       "      <td>670</td>\n",
       "    </tr>\n",
       "    <tr>\n",
       "      <th>197</th>\n",
       "      <td>184</td>\n",
       "      <td>Monsoon</td>\n",
       "      <td>10</td>\n",
       "    </tr>\n",
       "    <tr>\n",
       "      <th>116</th>\n",
       "      <td>536</td>\n",
       "      <td>Winter</td>\n",
       "      <td>715</td>\n",
       "    </tr>\n",
       "    <tr>\n",
       "      <th>88</th>\n",
       "      <td>630</td>\n",
       "      <td>Summer</td>\n",
       "      <td>523</td>\n",
       "    </tr>\n",
       "    <tr>\n",
       "      <th>119</th>\n",
       "      <td>859</td>\n",
       "      <td>Summer</td>\n",
       "      <td>1052</td>\n",
       "    </tr>\n",
       "  </tbody>\n",
       "</table>\n",
       "</div>"
      ],
      "text/plain": [
       "     Ad Spend ($)   Season  Revenue ($)\n",
       "86            672  Monsoon          670\n",
       "197           184  Monsoon           10\n",
       "116           536   Winter          715\n",
       "88            630   Summer          523\n",
       "119           859   Summer         1052"
      ]
     },
     "execution_count": 59,
     "metadata": {},
     "output_type": "execute_result"
    }
   ],
   "source": [
    "df = pd.read_csv(\"ad_spend.csv\")\n",
    "df.sample(5)"
   ]
  },
  {
   "cell_type": "code",
   "execution_count": 60,
   "id": "d0fcd2a4-89a2-4c00-9a3c-597d93bde6ed",
   "metadata": {},
   "outputs": [
    {
     "data": {
      "text/plain": [
       "(200, 3)"
      ]
     },
     "execution_count": 60,
     "metadata": {},
     "output_type": "execute_result"
    }
   ],
   "source": [
    "df.shape"
   ]
  },
  {
   "cell_type": "code",
   "execution_count": 61,
   "id": "c3809bdb-39aa-40fb-93d8-35c045904f2d",
   "metadata": {},
   "outputs": [
    {
     "data": {
      "text/html": [
       "<div>\n",
       "<style scoped>\n",
       "    .dataframe tbody tr th:only-of-type {\n",
       "        vertical-align: middle;\n",
       "    }\n",
       "\n",
       "    .dataframe tbody tr th {\n",
       "        vertical-align: top;\n",
       "    }\n",
       "\n",
       "    .dataframe thead th {\n",
       "        text-align: right;\n",
       "    }\n",
       "</style>\n",
       "<table border=\"1\" class=\"dataframe\">\n",
       "  <thead>\n",
       "    <tr style=\"text-align: right;\">\n",
       "      <th></th>\n",
       "      <th>Ad Spend ($)</th>\n",
       "      <th>Revenue ($)</th>\n",
       "    </tr>\n",
       "    <tr>\n",
       "      <th>Season</th>\n",
       "      <th></th>\n",
       "      <th></th>\n",
       "    </tr>\n",
       "  </thead>\n",
       "  <tbody>\n",
       "    <tr>\n",
       "      <th>Monsoon</th>\n",
       "      <td>517.643836</td>\n",
       "      <td>423.150685</td>\n",
       "    </tr>\n",
       "    <tr>\n",
       "      <th>Summer</th>\n",
       "      <td>573.836066</td>\n",
       "      <td>689.360656</td>\n",
       "    </tr>\n",
       "    <tr>\n",
       "      <th>Winter</th>\n",
       "      <td>552.560606</td>\n",
       "      <td>826.530303</td>\n",
       "    </tr>\n",
       "  </tbody>\n",
       "</table>\n",
       "</div>"
      ],
      "text/plain": [
       "         Ad Spend ($)  Revenue ($)\n",
       "Season                            \n",
       "Monsoon    517.643836   423.150685\n",
       "Summer     573.836066   689.360656\n",
       "Winter     552.560606   826.530303"
      ]
     },
     "execution_count": 61,
     "metadata": {},
     "output_type": "execute_result"
    }
   ],
   "source": [
    "g = df.groupby(\"Season\")[[\"Ad Spend ($)\",\"Revenue ($)\"]].mean()\n",
    "g"
   ]
  },
  {
   "cell_type": "code",
   "execution_count": 62,
   "id": "2ae62a3b-219e-4f79-ba43-2fbcb17e56a3",
   "metadata": {},
   "outputs": [
    {
     "data": {
      "image/png": "[encoded data removed]",
      "text/plain": [
       "<Figure size 640x480 with 1 Axes>"
      ]
     },
     "metadata": {},
     "output_type": "display_data"
    }
   ],
   "source": [
    "from matplotlib import pyplot as plt\n",
    "ax = g.plot(kind='bar')\n",
    "ax.set_title(\"Average Ad spend and Revenue per Season\")\n",
    "ax.set_xlabel(\"Season\")\n",
    "ax.set_ylabel(\"Values\")\n",
    "plt.xticks(rotation=360)\n",
    "plt.show()"
   ]
  },
  {
   "cell_type": "code",
   "execution_count": 63,
   "id": "8a935346-d4c8-4014-bd45-7bbf1811e2ba",
   "metadata": {},
   "outputs": [
    {
     "data": {
      "image/png": "[encoded data removed]",
      "text/plain": [
       "<Figure size 500x300 with 1 Axes>"
      ]
     },
     "metadata": {},
     "output_type": "display_data"
    }
   ],
   "source": [
    "plt.figure(figsize=(5, 3))\n",
    "for season, subdf in df.groupby(\"Season\"):\n",
    "    plt.scatter(subdf[\"Ad Spend ($)\"], subdf[\"Revenue ($)\"], alpha = 0.5, label = season)\n",
    "plt.xlabel(\"Ad Spend ($)\")\n",
    "plt.ylabel(\"Revenue ($)\")\n",
    "plt.legend()\n",
    "plt.show()"
   ]
  },
  {
   "cell_type": "markdown",
   "id": "691d11ca-48e2-4397-82e3-7f64fe262c0a",
   "metadata": {},
   "source": [
    "#### Applying One Hot Encoding for the Categorical column Season in our dataFrame"
   ]
  },
  {
   "cell_type": "code",
   "execution_count": 64,
   "id": "3d8c0285-167a-487a-bf99-7aa3944dda77",
   "metadata": {},
   "outputs": [
    {
     "data": {
      "text/html": [
       "<div>\n",
       "<style scoped>\n",
       "    .dataframe tbody tr th:only-of-type {\n",
       "        vertical-align: middle;\n",
       "    }\n",
       "\n",
       "    .dataframe tbody tr th {\n",
       "        vertical-align: top;\n",
       "    }\n",
       "\n",
       "    .dataframe thead th {\n",
       "        text-align: right;\n",
       "    }\n",
       "</style>\n",
       "<table border=\"1\" class=\"dataframe\">\n",
       "  <thead>\n",
       "    <tr style=\"text-align: right;\">\n",
       "      <th></th>\n",
       "      <th>Ad Spend ($)</th>\n",
       "      <th>Revenue ($)</th>\n",
       "      <th>Season_Summer</th>\n",
       "      <th>Season_Winter</th>\n",
       "    </tr>\n",
       "  </thead>\n",
       "  <tbody>\n",
       "    <tr>\n",
       "      <th>0</th>\n",
       "      <td>463</td>\n",
       "      <td>440</td>\n",
       "      <td>False</td>\n",
       "      <td>False</td>\n",
       "    </tr>\n",
       "    <tr>\n",
       "      <th>1</th>\n",
       "      <td>158</td>\n",
       "      <td>297</td>\n",
       "      <td>False</td>\n",
       "      <td>True</td>\n",
       "    </tr>\n",
       "    <tr>\n",
       "      <th>2</th>\n",
       "      <td>328</td>\n",
       "      <td>214</td>\n",
       "      <td>False</td>\n",
       "      <td>False</td>\n",
       "    </tr>\n",
       "    <tr>\n",
       "      <th>3</th>\n",
       "      <td>322</td>\n",
       "      <td>48</td>\n",
       "      <td>False</td>\n",
       "      <td>False</td>\n",
       "    </tr>\n",
       "    <tr>\n",
       "      <th>4</th>\n",
       "      <td>726</td>\n",
       "      <td>1048</td>\n",
       "      <td>False</td>\n",
       "      <td>True</td>\n",
       "    </tr>\n",
       "  </tbody>\n",
       "</table>\n",
       "</div>"
      ],
      "text/plain": [
       "   Ad Spend ($)  Revenue ($)  Season_Summer  Season_Winter\n",
       "0           463          440          False          False\n",
       "1           158          297          False           True\n",
       "2           328          214          False          False\n",
       "3           322           48          False          False\n",
       "4           726         1048          False           True"
      ]
     },
     "execution_count": 64,
     "metadata": {},
     "output_type": "execute_result"
    }
   ],
   "source": [
    "df_encoded = pd.get_dummies(df, columns=[\"Season\"], drop_first= True)\n",
    "df_encoded.head()"
   ]
  },
  {
   "cell_type": "markdown",
   "id": "53b73141-6a52-4b6b-b643-33e573a24abb",
   "metadata": {},
   "source": [
    "#### Train_Test_Split "
   ]
  },
  {
   "cell_type": "code",
   "execution_count": 65,
   "id": "c04669ee-839f-4454-a5c3-53f003843ea1",
   "metadata": {},
   "outputs": [],
   "source": [
    "from sklearn.model_selection import train_test_split\n",
    "\n",
    "X = df_encoded[['Ad Spend ($)','Season_Summer','Season_Winter']]\n",
    "y = df_encoded['Revenue ($)']\n",
    "\n",
    "X_train, X_test, y_train, y_test = train_test_split(X, y , test_size = 0.2, random_state= 10)"
   ]
  },
  {
   "cell_type": "markdown",
   "id": "8fc019a5-c680-4fa2-862d-3cf4682379b3",
   "metadata": {},
   "source": [
    "#### Linear Regression Model"
   ]
  },
  {
   "cell_type": "code",
   "execution_count": 66,
   "id": "5e45d875-412a-44d2-8e62-45ae08e4948d",
   "metadata": {},
   "outputs": [
    {
     "data": {
      "text/plain": [
       "0.8823172485530336"
      ]
     },
     "execution_count": 66,
     "metadata": {},
     "output_type": "execute_result"
    }
   ],
   "source": [
    "from sklearn.linear_model import LinearRegression\n",
    "\n",
    "model = LinearRegression()\n",
    "model.fit(X_train, y_train)\n",
    "model.score(X_test, y_test)"
   ]
  },
  {
   "cell_type": "markdown",
   "id": "8e6334ff-aabe-411e-b48a-8243ee6e2e09",
   "metadata": {},
   "source": [
    "#### Decision Tree Regresion Model"
   ]
  },
  {
   "cell_type": "code",
   "execution_count": 67,
   "id": "d84e805f-6e2f-4b9b-bea2-bab73781457d",
   "metadata": {},
   "outputs": [
    {
     "data": {
      "text/plain": [
       "0.9163405765229717"
      ]
     },
     "execution_count": 67,
     "metadata": {},
     "output_type": "execute_result"
    }
   ],
   "source": [
    "from sklearn.tree import DecisionTreeRegressor\n",
    "\n",
    "model = DecisionTreeRegressor()\n",
    "model.fit(X_train, y_train)\n",
    "model.score(X_test, y_test)"
   ]
  },
  {
   "cell_type": "markdown",
   "id": "11a7df20-499e-4711-b231-fa60bc9d291d",
   "metadata": {},
   "source": [
    "#### Gradient Boosting Model"
   ]
  },
  {
   "cell_type": "code",
   "execution_count": 68,
   "id": "d2883539-8ba6-46c9-8172-358ac09250a9",
   "metadata": {},
   "outputs": [
    {
     "data": {
      "text/plain": [
       "0.9261691125344311"
      ]
     },
     "execution_count": 68,
     "metadata": {},
     "output_type": "execute_result"
    }
   ],
   "source": [
    "from sklearn.ensemble import GradientBoostingRegressor\n",
    "\n",
    "model = GradientBoostingRegressor()\n",
    "model.fit(X_train, y_train)\n",
    "model.score(X_test, y_test)"
   ]
  },
  {
   "cell_type": "code",
   "execution_count": 69,
   "id": "d031aa62-1988-4bd0-82f0-253171853234",
   "metadata": {},
   "outputs": [
    {
     "data": {
      "text/html": [
       "<div>\n",
       "<style scoped>\n",
       "    .dataframe tbody tr th:only-of-type {\n",
       "        vertical-align: middle;\n",
       "    }\n",
       "\n",
       "    .dataframe tbody tr th {\n",
       "        vertical-align: top;\n",
       "    }\n",
       "\n",
       "    .dataframe thead th {\n",
       "        text-align: right;\n",
       "    }\n",
       "</style>\n",
       "<table border=\"1\" class=\"dataframe\">\n",
       "  <thead>\n",
       "    <tr style=\"text-align: right;\">\n",
       "      <th></th>\n",
       "      <th>Actual</th>\n",
       "      <th>Prediction</th>\n",
       "    </tr>\n",
       "  </thead>\n",
       "  <tbody>\n",
       "    <tr>\n",
       "      <th>59</th>\n",
       "      <td>605</td>\n",
       "      <td>668.066269</td>\n",
       "    </tr>\n",
       "    <tr>\n",
       "      <th>5</th>\n",
       "      <td>1125</td>\n",
       "      <td>1052.139051</td>\n",
       "    </tr>\n",
       "    <tr>\n",
       "      <th>20</th>\n",
       "      <td>699</td>\n",
       "      <td>637.091195</td>\n",
       "    </tr>\n",
       "    <tr>\n",
       "      <th>198</th>\n",
       "      <td>504</td>\n",
       "      <td>434.483700</td>\n",
       "    </tr>\n",
       "    <tr>\n",
       "      <th>52</th>\n",
       "      <td>1310</td>\n",
       "      <td>1251.627118</td>\n",
       "    </tr>\n",
       "  </tbody>\n",
       "</table>\n",
       "</div>"
      ],
      "text/plain": [
       "     Actual   Prediction\n",
       "59      605   668.066269\n",
       "5      1125  1052.139051\n",
       "20      699   637.091195\n",
       "198     504   434.483700\n",
       "52     1310  1251.627118"
      ]
     },
     "execution_count": 69,
     "metadata": {},
     "output_type": "execute_result"
    }
   ],
   "source": [
    "y_pred = model.predict(X_test)\n",
    "\n",
    "df_eval = pd.DataFrame({'Actual':y_test, 'Prediction':y_pred})\n",
    "df_eval.head()"
   ]
  },
  {
   "cell_type": "code",
   "execution_count": 70,
   "id": "1b855267-7377-49c3-9e87-82568b5d6a48",
   "metadata": {},
   "outputs": [
    {
     "data": {
      "text/html": [
       "<div>\n",
       "<style scoped>\n",
       "    .dataframe tbody tr th:only-of-type {\n",
       "        vertical-align: middle;\n",
       "    }\n",
       "\n",
       "    .dataframe tbody tr th {\n",
       "        vertical-align: top;\n",
       "    }\n",
       "\n",
       "    .dataframe thead th {\n",
       "        text-align: right;\n",
       "    }\n",
       "</style>\n",
       "<table border=\"1\" class=\"dataframe\">\n",
       "  <thead>\n",
       "    <tr style=\"text-align: right;\">\n",
       "      <th></th>\n",
       "      <th>Actual</th>\n",
       "      <th>Prediction</th>\n",
       "      <th>Diff(%)</th>\n",
       "    </tr>\n",
       "  </thead>\n",
       "  <tbody>\n",
       "    <tr>\n",
       "      <th>59</th>\n",
       "      <td>605</td>\n",
       "      <td>668.066269</td>\n",
       "      <td>10.424177</td>\n",
       "    </tr>\n",
       "    <tr>\n",
       "      <th>5</th>\n",
       "      <td>1125</td>\n",
       "      <td>1052.139051</td>\n",
       "      <td>6.476529</td>\n",
       "    </tr>\n",
       "    <tr>\n",
       "      <th>20</th>\n",
       "      <td>699</td>\n",
       "      <td>637.091195</td>\n",
       "      <td>8.856767</td>\n",
       "    </tr>\n",
       "    <tr>\n",
       "      <th>198</th>\n",
       "      <td>504</td>\n",
       "      <td>434.483700</td>\n",
       "      <td>13.792917</td>\n",
       "    </tr>\n",
       "    <tr>\n",
       "      <th>52</th>\n",
       "      <td>1310</td>\n",
       "      <td>1251.627118</td>\n",
       "      <td>4.455945</td>\n",
       "    </tr>\n",
       "  </tbody>\n",
       "</table>\n",
       "</div>"
      ],
      "text/plain": [
       "     Actual   Prediction    Diff(%)\n",
       "59      605   668.066269  10.424177\n",
       "5      1125  1052.139051   6.476529\n",
       "20      699   637.091195   8.856767\n",
       "198     504   434.483700  13.792917\n",
       "52     1310  1251.627118   4.455945"
      ]
     },
     "execution_count": 70,
     "metadata": {},
     "output_type": "execute_result"
    }
   ],
   "source": [
    "df_eval['Diff(%)']= abs((df_eval['Prediction']-df_eval['Actual'])*100/df_eval['Actual'])\n",
    "df_eval.head()"
   ]
  },
  {
   "cell_type": "code",
   "execution_count": null,
   "id": "3e21468b-b71e-4f03-af7d-e7d877786849",
   "metadata": {},
   "outputs": [],
   "source": []
  }
 ],
 "metadata": {
  "kernelspec": {
   "display_name": "Python 3 (ipykernel)",
   "language": "python",
   "name": "python3"
  },
  "language_info": {
   "codemirror_mode": {
    "name": "ipython",
    "version": 3
   },
   "file_extension": ".py",
   "mimetype": "text/x-python",
   "name": "python",
   "nbconvert_exporter": "python",
   "pygments_lexer": "ipython3",
   "version": "3.13.5"
  }
 },
 "nbformat": 4,
 "nbformat_minor": 5
}
